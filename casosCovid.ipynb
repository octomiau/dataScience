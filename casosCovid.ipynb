{
 "cells": [
  {
   "cell_type": "markdown",
   "metadata": {},
   "source": [
    "#ABOUT\n",
    "\n",
    "In the subsequent analysis, data were meticulously examined from an authentic database detailing COVID-19 cases and associated information in Mexico. The primary objective entailed reading and writing files to systematically process the available data. This excercise aimed to address two principal inquiries: \n",
    "\n",
    "-Firstly, to ascertain the overall mean of COVID-19 cases, \n",
    "-and secondly, to determine the gender distribution of these cases, identifying which gender exhibited a higher prevalence. \n",
    "\n",
    "File available in: https://www.kaggle.com/lalish99/covid19-mx   "
   ]
  },
  {
   "cell_type": "code",
   "execution_count": 1,
   "metadata": {},
   "outputs": [
    {
     "name": "stdout",
     "output_type": "stream",
     "text": [
      "Processed and wrote data to gender-age.txt\n"
     ]
    }
   ],
   "source": [
    "def process_and_write_file(input_filename, output_filename):\n",
    "    with open(input_filename, 'r') as file_handler, open(output_filename, 'w') as output_file:\n",
    "        next(file_handler)  # Skip the first line (header)\n",
    "        for line in file_handler:\n",
    "            data = line.strip().split(',')\n",
    "            if data[0] != 'NA' and data[1] != 'NA':\n",
    "                gender = data[2]\n",
    "                age = data[3]\n",
    "                output_file.write(f'{gender}:{age}\\n')\n",
    "\n",
    "# Call the function with the input and output file names\n",
    "process_and_write_file('casos_confirmados.csv', 'gender-age.txt')\n",
    "\n",
    "print('Processed and wrote data to gender-age.txt')"
   ]
  },
  {
   "cell_type": "code",
   "execution_count": 2,
   "metadata": {},
   "outputs": [
    {
     "name": "stdout",
     "output_type": "stream",
     "text": [
      "La edad promedio es: 45.32\n"
     ]
    }
   ],
   "source": [
    "def calculate_mean_age(file):\n",
    "    total_age = 0\n",
    "    count = 0\n",
    "    with open('gender-age.txt', 'r') as file:\n",
    "        for line in file:\n",
    "            _, age = line.strip().split(':')  # Split each line into gender and age\n",
    "            total_age += int(age)  # Convert age to int and add to total_age\n",
    "            count += 1  # Increment count for each valid line\n",
    "\n",
    "    if count > 0:\n",
    "        mean_age = total_age / count\n",
    "        return mean_age\n",
    "    else:\n",
    "        return None\n",
    "\n",
    "# Calculates and prints age mean\n",
    "mean_age = calculate_mean_age('gender-age.txt')\n",
    "if mean_age is not None:\n",
    "    print(f'La edad promedio es: {mean_age:.2f}')\n",
    "else:\n",
    "    print('No hay valores correctos')"
   ]
  },
  {
   "cell_type": "code",
   "execution_count": 3,
   "metadata": {},
   "outputs": [
    {
     "name": "stdout",
     "output_type": "stream",
     "text": [
      "Casos totales Femeninos: 172354, Masculinos: 198358\n",
      "Hay más casos femeninos\n"
     ]
    }
   ],
   "source": [
    "def calculate_gender(file):\n",
    "    total_female = 0\n",
    "    total_male = 0\n",
    "    with open('gender-age.txt', 'r') as file:\n",
    "        for line in file:\n",
    "            gender, _ = line.strip().split(':')  # Split each line into gender and age\n",
    "            if gender.upper() == \"FEMENINO\":\n",
    "                total_female += 1\n",
    "            else:\n",
    "                total_male += 1\n",
    "\n",
    "    # Return both counts as a tuple\n",
    "    return total_female, total_male\n",
    "\n",
    "# Call the function and print the results\n",
    "total_female, total_male = calculate_gender('gender-age.txt')\n",
    "print(f'Casos totales Femeninos: {total_female}, Masculinos: {total_male}')\n",
    "if total_male > total_male:\n",
    "  print(f'Más casos masculinos')\n",
    "else:\n",
    "  print(f'Hay más casos femeninos')\n",
    "\n"
   ]
  },
  {
   "cell_type": "markdown",
   "metadata": {},
   "source": []
  }
 ],
 "metadata": {
  "kernelspec": {
   "display_name": "Python 3.10.5 64-bit",
   "language": "python",
   "name": "python3"
  },
  "language_info": {
   "codemirror_mode": {
    "name": "ipython",
    "version": 3
   },
   "file_extension": ".py",
   "mimetype": "text/x-python",
   "name": "python",
   "nbconvert_exporter": "python",
   "pygments_lexer": "ipython3",
   "version": "3.10.5"
  },
  "orig_nbformat": 4,
  "vscode": {
   "interpreter": {
    "hash": "aee8b7b246df8f9039afb4144a1f6fd8d2ca17a180786b69acc140d282b71a49"
   }
  }
 },
 "nbformat": 4,
 "nbformat_minor": 2
}
