{
  "nbformat": 4,
  "nbformat_minor": 0,
  "metadata": {
    "colab": {
      "provenance": [],
      "history_visible": true,
      "authorship_tag": "ABX9TyNUkfeKAzVnoVREvW8nlqy/",
      "include_colab_link": true
    },
    "kernelspec": {
      "name": "python3",
      "display_name": "Python 3"
    },
    "language_info": {
      "name": "python"
    }
  },
  "cells": [
    {
      "cell_type": "markdown",
      "metadata": {
        "id": "view-in-github",
        "colab_type": "text"
      },
      "source": [
        "<a href=\"https://colab.research.google.com/github/octomiau/dataScienceNotebooks/blob/main/dianaAvilesCasosCovid.ipynb\" target=\"_parent\"><img src=\"https://colab.research.google.com/assets/colab-badge.svg\" alt=\"Open In Colab\"/></a>"
      ]
    },
    {
      "cell_type": "code",
      "execution_count": null,
      "metadata": {
        "colab": {
          "base_uri": "https://localhost:8080/"
        },
        "id": "mX96w8-esMZE",
        "outputId": "12201c34-0039-482f-8815-8006644f7e5b"
      },
      "outputs": [
        {
          "output_type": "stream",
          "name": "stdout",
          "text": [
            "Processed and wrote data to gender-age.txt\n"
          ]
        }
      ],
      "source": [
        "\n",
        "def process_and_write_file(input_filename, output_filename):\n",
        "    with open(input_filename, 'r') as file_handler, open(output_filename, 'w') as output_file:\n",
        "        next(file_handler)  # Skip the first line (header)\n",
        "        for line in file_handler:\n",
        "            data = line.strip().split(',')\n",
        "            if data[0] != 'NA' and data[1] != 'NA':\n",
        "                gender = data[2]\n",
        "                age = data[3]\n",
        "                output_file.write(f'{gender}:{age}\\n')\n",
        "\n",
        "# Call the function with the input and output file names\n",
        "process_and_write_file('casos_confirmados.csv', 'gender-age.txt')\n",
        "\n",
        "print('Processed and wrote data to gender-age.txt')\n",
        "\n"
      ]
    },
    {
      "cell_type": "code",
      "source": [
        "def calculate_mean_age(file):\n",
        "    total_age = 0\n",
        "    count = 0\n",
        "    with open('gender-age.txt', 'r') as file:\n",
        "        for line in file:\n",
        "            _, age = line.strip().split(':')  # Split each line into gender and age\n",
        "            total_age += int(age)  # Convert age to int and add to total_age\n",
        "            count += 1  # Increment count for each valid line\n",
        "\n",
        "    if count > 0:\n",
        "        mean_age = total_age / count\n",
        "        return mean_age\n",
        "    else:\n",
        "        return None\n",
        "\n",
        "# Calculates and prints age mean\n",
        "mean_age = calculate_mean_age('gender-age.txt')\n",
        "if mean_age is not None:\n",
        "    print(f'La edad promedio es: {mean_age:.2f}')\n",
        "else:\n",
        "    print('No hay valores correctos')"
      ],
      "metadata": {
        "colab": {
          "base_uri": "https://localhost:8080/"
        },
        "id": "czT_1WQZQIlF",
        "outputId": "5e3c0373-eee9-4b87-e51b-305f5149ea59"
      },
      "execution_count": null,
      "outputs": [
        {
          "output_type": "stream",
          "name": "stdout",
          "text": [
            "La edad promedio es: 45.32\n"
          ]
        }
      ]
    },
    {
      "cell_type": "code",
      "source": [
        "def calculate_gender(file):\n",
        "    total_female = 0\n",
        "    total_male = 0\n",
        "    with open('gender-age.txt', 'r') as file:\n",
        "        for line in file:\n",
        "            gender, _ = line.strip().split(':')  # Split each line into gender and age\n",
        "            if gender.upper() == \"FEMENINO\":\n",
        "                total_female += 1\n",
        "            else:\n",
        "                total_male += 1\n",
        "\n",
        "    # Return both counts as a tuple\n",
        "    return total_female, total_male\n",
        "\n",
        "# Call the function and print the results\n",
        "total_female, total_male = calculate_gender('gender-age.txt')\n",
        "print(f'Casos totales Femeninos: {total_female}, Masculinos: {total_male}')\n",
        "if total_male > total_male:\n",
        "  print(f'Más casos masculinos')\n",
        "else:\n",
        "  print(f'Hay más casos femeninos')\n",
        "\n",
        "\n",
        "\n"
      ],
      "metadata": {
        "colab": {
          "base_uri": "https://localhost:8080/"
        },
        "id": "jtvSAPE1Vntq",
        "outputId": "8f825315-b372-4d47-a9e5-980a18f78139"
      },
      "execution_count": null,
      "outputs": [
        {
          "output_type": "stream",
          "name": "stdout",
          "text": [
            "Casos totales Femeninos: 172354, Masculinos: 198358\n",
            "Más casos femeninos\n"
          ]
        }
      ]
    },
    {
      "cell_type": "markdown",
      "source": [
        "# Sección nueva"
      ],
      "metadata": {
        "id": "xhvHooEAs9jQ"
      }
    }
  ]
}